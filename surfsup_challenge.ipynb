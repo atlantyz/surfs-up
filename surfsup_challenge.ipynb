{
 "cells": [
  {
   "cell_type": "code",
   "execution_count": 1,
   "id": "432124e9",
   "metadata": {},
   "outputs": [],
   "source": [
    "# Dependencies\n",
    "import numpy as np\n",
    "import pandas as pd\n",
    "\n",
    "# Python SQL toolkit and Object Relational Mapper\n",
    "import sqlalchemy\n",
    "from sqlalchemy.ext.automap import automap_base\n",
    "from sqlalchemy.orm import Session\n",
    "from sqlalchemy import create_engine, func\n",
    "import datetime as dt"
   ]
  },
  {
   "cell_type": "code",
   "execution_count": 2,
   "id": "88d02efa",
   "metadata": {},
   "outputs": [],
   "source": [
    "engine = create_engine(\"sqlite:///hawaii.sqlite\")"
   ]
  },
  {
   "cell_type": "code",
   "execution_count": 3,
   "id": "89542c25",
   "metadata": {},
   "outputs": [],
   "source": [
    "Base = automap_base()"
   ]
  },
  {
   "cell_type": "code",
   "execution_count": 4,
   "id": "7326ef25",
   "metadata": {},
   "outputs": [],
   "source": [
    "Base.prepare(engine, reflect=True)"
   ]
  },
  {
   "cell_type": "code",
   "execution_count": 5,
   "id": "6d333634",
   "metadata": {},
   "outputs": [],
   "source": [
    "Measurement = Base.classes.measurement"
   ]
  },
  {
   "cell_type": "code",
   "execution_count": 6,
   "id": "4a2120f0",
   "metadata": {},
   "outputs": [],
   "source": [
    "Station = Base.classes.station"
   ]
  },
  {
   "cell_type": "code",
   "execution_count": 7,
   "id": "8da21ac3",
   "metadata": {},
   "outputs": [],
   "source": [
    "session = Session(engine)"
   ]
  },
  {
   "cell_type": "markdown",
   "id": "871214d8",
   "metadata": {},
   "source": [
    "Deliverable 1: Determine the Summary Statistics for June"
   ]
  },
  {
   "cell_type": "code",
   "execution_count": 8,
   "id": "d12d5ba5",
   "metadata": {},
   "outputs": [],
   "source": [
    "from sqlalchemy import extract"
   ]
  },
  {
   "cell_type": "markdown",
   "id": "6c9d2825",
   "metadata": {},
   "source": [
    "1. Write a query that filters the Measurement table to retrieve the temperatures for the month of June. "
   ]
  },
  {
   "cell_type": "code",
   "execution_count": 17,
   "id": "848b602a",
   "metadata": {},
   "outputs": [],
   "source": [
    "june_temps = session.query(Measurement).filter(extract('month', Measurement.date) == 6).all()"
   ]
  },
  {
   "cell_type": "code",
   "execution_count": 18,
   "id": "dd298601",
   "metadata": {},
   "outputs": [
    {
     "ename": "NameError",
     "evalue": "name 'june_results' is not defined",
     "output_type": "error",
     "traceback": [
      "\u001b[1;31m---------------------------------------------------------------------------\u001b[0m",
      "\u001b[1;31mNameError\u001b[0m                                 Traceback (most recent call last)",
      "\u001b[1;32m~\\AppData\\Local\\Temp/ipykernel_7956/3173089633.py\u001b[0m in \u001b[0;36m<module>\u001b[1;34m\u001b[0m\n\u001b[1;32m----> 1\u001b[1;33m \u001b[0mprint\u001b[0m\u001b[1;33m(\u001b[0m\u001b[0mjune_results\u001b[0m\u001b[1;33m)\u001b[0m\u001b[1;33m\u001b[0m\u001b[1;33m\u001b[0m\u001b[0m\n\u001b[0m",
      "\u001b[1;31mNameError\u001b[0m: name 'june_results' is not defined"
     ]
    }
   ],
   "source": [
    "print(june_temps)"
   ]
  },
  {
   "cell_type": "markdown",
   "id": "3ace10fc",
   "metadata": {},
   "source": [
    "3. Create a DataFrame from the list of temperatures for the month of June. "
   ]
  },
  {
   "cell_type": "code",
   "execution_count": null,
   "id": "ce7699fb",
   "metadata": {},
   "outputs": [],
   "source": [
    "june_df = pd.DataFrame(june_results, columns=['date','precipitation'])"
   ]
  },
  {
   "cell_type": "markdown",
   "id": "30842f2c",
   "metadata": {},
   "source": [
    "4. Calculate and print out the summary statistics for the June temperature DataFrame."
   ]
  },
  {
   "cell_type": "code",
   "execution_count": null,
   "id": "c6e21ef7",
   "metadata": {},
   "outputs": [],
   "source": [
    "june_df.describe()"
   ]
  },
  {
   "cell_type": "markdown",
   "id": "b4a7cbf9",
   "metadata": {},
   "source": [
    "Deliverable 2: Determine the summary statistics for December"
   ]
  },
  {
   "cell_type": "markdown",
   "id": "ed58d378",
   "metadata": {},
   "source": [
    "6. Write a query that filters the Measurement table to retrieve the temperatures for the month of December."
   ]
  },
  {
   "cell_type": "code",
   "execution_count": null,
   "id": "133debbd",
   "metadata": {},
   "outputs": [],
   "source": [
    "dec_temps = session.query(Measurement).filter(extract('month', Measurement.date) == 12)"
   ]
  },
  {
   "cell_type": "code",
   "execution_count": null,
   "id": "85ce984a",
   "metadata": {},
   "outputs": [],
   "source": [
    "dec_results = session.query(Measurement.date, Measurement.prcp).filter(Measurement.date == dec_temps).all()"
   ]
  },
  {
   "cell_type": "markdown",
   "id": "aff2186a",
   "metadata": {},
   "source": [
    "7. Convert the December temperatures to a list."
   ]
  },
  {
   "cell_type": "markdown",
   "id": "25613b58",
   "metadata": {},
   "source": [
    "8. Create a DataFrame from the list of temperatures for the month of December. "
   ]
  },
  {
   "cell_type": "code",
   "execution_count": null,
   "id": "b566921c",
   "metadata": {},
   "outputs": [],
   "source": [
    "dec_df = pd.DataFrame(dec_results, columns=['date','precipitation'])"
   ]
  },
  {
   "cell_type": "markdown",
   "id": "79bd2f0f",
   "metadata": {},
   "source": [
    "9. Calculate and print out the summary statistics for the Decemeber temperature DataFrame."
   ]
  },
  {
   "cell_type": "code",
   "execution_count": null,
   "id": "4efa3d0a",
   "metadata": {},
   "outputs": [],
   "source": [
    "dec_df.describe()"
   ]
  }
 ],
 "metadata": {
  "kernelspec": {
   "display_name": "PythonData",
   "language": "python",
   "name": "pythondata"
  },
  "language_info": {
   "codemirror_mode": {
    "name": "ipython",
    "version": 3
   },
   "file_extension": ".py",
   "mimetype": "text/x-python",
   "name": "python",
   "nbconvert_exporter": "python",
   "pygments_lexer": "ipython3",
   "version": "3.8.12"
  }
 },
 "nbformat": 4,
 "nbformat_minor": 5
}
